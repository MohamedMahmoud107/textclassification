{
 "cells": [
  {
   "cell_type": "code",
   "execution_count": 1,
   "id": "4db46012",
   "metadata": {},
   "outputs": [],
   "source": [
    "import os\n",
    "import pandas as pd\n",
    "import numpy as np\n",
    "import matplotlib.pyplot as plt\n",
    "import seaborn as sns\n",
    "import string\n",
    "import re \n",
    "import nltk\n",
    "from nltk.corpus import stopwords\n",
    "from nltk.stem import WordNetLemmatizer\n",
    "from sklearn.feature_extraction.text import TfidfVectorizer\n",
    "from sklearn.model_selection import train_test_split\n",
    "from sklearn.preprocessing import LabelEncoder\n",
    "from sklearn.naive_bayes import MultinomialNB\n",
    "from sklearn.linear_model import LogisticRegression\n",
    "from sklearn.model_selection import GridSearchCV\n",
    "from sklearn.metrics import classification_report ,accuracy_score ,confusion_matrix \n",
    "from sklearn.model_selection import train_test_split\n",
    "from datasets import load_dataset\n",
    "import torch\n",
    "from torch.utils.data import DataLoader, TensorDataset\n",
    "from torch.optim import AdamW\n",
    "from torch.nn import CrossEntropyLoss\n",
    "import joblib\n",
    "from transformers import DistilBertTokenizerFast, DistilBertForSequenceClassification"
   ]
  },
  {
   "cell_type": "code",
   "execution_count": 2,
   "id": "e88b1b6d",
   "metadata": {},
   "outputs": [],
   "source": [
    "path=r'D:\\Maim\\textclassification\\bbc'"
   ]
  },
  {
   "cell_type": "code",
   "execution_count": 3,
   "id": "fa7b5344",
   "metadata": {},
   "outputs": [
    {
     "name": "stdout",
     "output_type": "stream",
     "text": [
      "                                                text     label\n",
      "0  UK house prices dip in November\\n\\nUK house pr...  business\n",
      "1  LSE 'sets date for takeover deal'\\n\\nThe Londo...  business\n",
      "2  Harinordoquy suffers France axe\\n\\nNumber eigh...     sport\n",
      "3  Barclays shares up on merger talk\\n\\nShares in...  business\n",
      "4  Campaign 'cold calls' questioned\\n\\nLabour and...  politics\n"
     ]
    }
   ],
   "source": [
    "texts=[]\n",
    "labels=[]\n",
    "\n",
    "for category in os.listdir(path):\n",
    "    category_path=os.path.join(path,category)\n",
    "    if os.path.isdir(category_path):\n",
    "        for file in os.listdir(category_path):\n",
    "            file_path=os.path.join(category_path,file)\n",
    "            with open(file_path,'r',encoding='latin1') as file :\n",
    "                content=file.read()\n",
    "                texts.append(content)\n",
    "                labels.append(category)\n",
    "\n",
    "df=pd.DataFrame({'text':texts,'label':labels})\n",
    "df=df.sample(frac=1,random_state=42).reset_index(drop=True) # shuffle the rows\n",
    "print(df.head())"
   ]
  },
  {
   "cell_type": "code",
   "execution_count": 4,
   "id": "e6f2386a",
   "metadata": {},
   "outputs": [
    {
     "data": {
      "image/png": "[encoded data removed]",
      "text/plain": [
       "<Figure size 640x480 with 1 Axes>"
      ]
     },
     "metadata": {},
     "output_type": "display_data"
    }
   ],
   "source": [
    "df['label'].value_counts().plot(kind='bar')\n",
    "plt.show()"
   ]
  },
  {
   "cell_type": "code",
   "execution_count": 5,
   "id": "ca590de9",
   "metadata": {},
   "outputs": [
    {
     "name": "stderr",
     "output_type": "stream",
     "text": [
      "[nltk_data] Downloading package punkt to\n",
      "[nltk_data]     C:\\Users\\Mmahm\\AppData\\Roaming\\nltk_data...\n",
      "[nltk_data]   Package punkt is already up-to-date!\n",
      "[nltk_data] Downloading package punkt_tab to\n",
      "[nltk_data]     C:\\Users\\Mmahm\\AppData\\Roaming\\nltk_data...\n",
      "[nltk_data]   Package punkt_tab is already up-to-date!\n",
      "[nltk_data] Downloading package stopwords to\n",
      "[nltk_data]     C:\\Users\\Mmahm\\AppData\\Roaming\\nltk_data...\n",
      "[nltk_data]   Package stopwords is already up-to-date!\n",
      "[nltk_data] Downloading package wordnet to\n",
      "[nltk_data]     C:\\Users\\Mmahm\\AppData\\Roaming\\nltk_data...\n",
      "[nltk_data]   Package wordnet is already up-to-date!\n"
     ]
    },
    {
     "name": "stdout",
     "output_type": "stream",
     "text": [
      "                                                text  \\\n",
      "0  UK house prices dip in November\\n\\nUK house pr...   \n",
      "1  LSE 'sets date for takeover deal'\\n\\nThe Londo...   \n",
      "2  Harinordoquy suffers France axe\\n\\nNumber eigh...   \n",
      "3  Barclays shares up on merger talk\\n\\nShares in...   \n",
      "4  Campaign 'cold calls' questioned\\n\\nLabour and...   \n",
      "\n",
      "                                          clean_text  \n",
      "0  uk house price dip november uk house price dip...  \n",
      "1  lse set date takeover deal london stock exchan...  \n",
      "2  harinordoquy suffers france axe number eight i...  \n",
      "3  barclays share merger talk share uk banking gr...  \n",
      "4  campaign cold call questioned labour conservat...  \n"
     ]
    }
   ],
   "source": [
    "nltk.download('punkt')\n",
    "nltk.download('punkt_tab')\n",
    "nltk.download('stopwords')\n",
    "nltk.download('wordnet')\n",
    "\n",
    "stop_words = set(stopwords.words('english'))\n",
    "lemmatizer = WordNetLemmatizer()\n",
    "\n",
    "def clean_text(text):\n",
    "    text = text.lower()\n",
    "    text = text.translate(str.maketrans('', '', string.punctuation)) # only remove not replace \n",
    "    text = re.sub(r'\\d+', '', text)\n",
    "    words = nltk.word_tokenize(text)\n",
    "    words = [word for word in words if word not in stop_words]\n",
    "    words = [lemmatizer.lemmatize(word) for word in words]\n",
    "    return ' '.join(words)\n",
    "\n",
    "df['clean_text'] = df['text'].apply(clean_text)\n",
    "print(df[['text', 'clean_text']].head())"
   ]
  },
  {
   "cell_type": "code",
   "execution_count": 6,
   "id": "cd94eae1",
   "metadata": {},
   "outputs": [
    {
     "data": {
      "text/html": [
       "<div>\n",
       "<style scoped>\n",
       "    .dataframe tbody tr th:only-of-type {\n",
       "        vertical-align: middle;\n",
       "    }\n",
       "\n",
       "    .dataframe tbody tr th {\n",
       "        vertical-align: top;\n",
       "    }\n",
       "\n",
       "    .dataframe thead th {\n",
       "        text-align: right;\n",
       "    }\n",
       "</style>\n",
       "<table border=\"1\" class=\"dataframe\">\n",
       "  <thead>\n",
       "    <tr style=\"text-align: right;\">\n",
       "      <th></th>\n",
       "      <th>label</th>\n",
       "      <th>clean_text</th>\n",
       "    </tr>\n",
       "  </thead>\n",
       "  <tbody>\n",
       "    <tr>\n",
       "      <th>0</th>\n",
       "      <td>business</td>\n",
       "      <td>uk house price dip november uk house price dip...</td>\n",
       "    </tr>\n",
       "    <tr>\n",
       "      <th>1</th>\n",
       "      <td>business</td>\n",
       "      <td>lse set date takeover deal london stock exchan...</td>\n",
       "    </tr>\n",
       "    <tr>\n",
       "      <th>2</th>\n",
       "      <td>sport</td>\n",
       "      <td>harinordoquy suffers france axe number eight i...</td>\n",
       "    </tr>\n",
       "    <tr>\n",
       "      <th>3</th>\n",
       "      <td>business</td>\n",
       "      <td>barclays share merger talk share uk banking gr...</td>\n",
       "    </tr>\n",
       "    <tr>\n",
       "      <th>4</th>\n",
       "      <td>politics</td>\n",
       "      <td>campaign cold call questioned labour conservat...</td>\n",
       "    </tr>\n",
       "  </tbody>\n",
       "</table>\n",
       "</div>"
      ],
      "text/plain": [
       "      label                                         clean_text\n",
       "0  business  uk house price dip november uk house price dip...\n",
       "1  business  lse set date takeover deal london stock exchan...\n",
       "2     sport  harinordoquy suffers france axe number eight i...\n",
       "3  business  barclays share merger talk share uk banking gr...\n",
       "4  politics  campaign cold call questioned labour conservat..."
      ]
     },
     "execution_count": 6,
     "metadata": {},
     "output_type": "execute_result"
    }
   ],
   "source": [
    "df.drop(columns='text',inplace=True)\n",
    "df.head()"
   ]
  },
  {
   "cell_type": "code",
   "execution_count": 7,
   "id": "d5c0b5e5",
   "metadata": {},
   "outputs": [
    {
     "name": "stdout",
     "output_type": "stream",
     "text": [
      "Shape of TF-IDF matrix: (2225, 27882)\n"
     ]
    }
   ],
   "source": [
    "vectorizer = TfidfVectorizer()\n",
    "X = vectorizer.fit_transform(df['clean_text'])\n",
    "print(\"Shape of TF-IDF matrix:\", X.shape) # 2225  documantry 30564 word \n",
    "tfidf_array = X.toarray()\n"
   ]
  },
  {
   "cell_type": "code",
   "execution_count": 8,
   "id": "b5af5f26",
   "metadata": {},
   "outputs": [],
   "source": [
    "y = df['label']  \n",
    "X_train, X_test, y_train, y_test = train_test_split(X, y, test_size=0.2, random_state=42, shuffle=True)"
   ]
  },
  {
   "cell_type": "code",
   "execution_count": 9,
   "id": "b6aa3569",
   "metadata": {},
   "outputs": [
    {
     "name": "stdout",
     "output_type": "stream",
     "text": [
      "\n",
      "=== Naive Bayes Results ===\n",
      "Best Params: {'alpha': 0.1}\n",
      "Best Accuracy: 0.9775280898876403\n",
      "\n",
      "=== Logistic Regression Results ===\n",
      "Best Params: {'C': 100, 'solver': 'lbfgs'}\n",
      "Best Accuracy: 0.9808988764044944\n"
     ]
    }
   ],
   "source": [
    "nb = MultinomialNB()\n",
    "nb_param_grid = {'alpha': [0.1, 0.5, 1.0, 2.0]}\n",
    "\n",
    "nb_grid = GridSearchCV(nb,param_grid=nb_param_grid,cv=5,scoring='accuracy')\n",
    "nb_grid.fit(X_train, y_train)\n",
    "\n",
    "print(\"\\n=== Naive Bayes Results ===\")\n",
    "print(\"Best Params:\", nb_grid.best_params_)\n",
    "print(\"Best Accuracy:\", nb_grid.best_score_)\n",
    "\n",
    "log_param_grid = {\n",
    "    'C': [0.01, 0.1, 1, 10,100],\n",
    "    'solver': ['lbfgs', 'liblinear','newton-cg']\n",
    "}\n",
    "log_grid=LogisticRegression()\n",
    "log_grid = GridSearchCV(log_grid,param_grid=log_param_grid, cv=5, scoring='accuracy')\n",
    "log_grid.fit(X_train, y_train)\n",
    "\n",
    "print(\"\\n=== Logistic Regression Results ===\")\n",
    "print(\"Best Params:\", log_grid.best_params_)\n",
    "print(\"Best Accuracy:\", log_grid.best_score_)\n",
    "\n",
    "\n"
   ]
  },
  {
   "cell_type": "code",
   "execution_count": null,
   "id": "3e15c43b",
   "metadata": {},
   "outputs": [],
   "source": [
    "final_model=LogisticRegression(solver='lbfgs',C=100)\n",
    "final_model.fit(X_train,y_train)\n",
    "predict=final_model.predict(X_test)"
   ]
  },
  {
   "cell_type": "code",
   "execution_count": 11,
   "id": "0829627b",
   "metadata": {},
   "outputs": [
    {
     "data": {
      "text/plain": [
       "['logistic_model.pkl']"
      ]
     },
     "execution_count": 11,
     "metadata": {},
     "output_type": "execute_result"
    }
   ],
   "source": [
    "joblib.dump(vectorizer, \"vectorizer.pkl\")\n",
    "joblib.dump(final_model, \"logistic_model.pkl\")"
   ]
  },
  {
   "cell_type": "code",
   "execution_count": 15,
   "id": "f9d676e8",
   "metadata": {},
   "outputs": [
    {
     "data": {
      "text/plain": [
       "0.9617977528089887"
      ]
     },
     "execution_count": 15,
     "metadata": {},
     "output_type": "execute_result"
    }
   ],
   "source": [
    "accuracy_score(predict,y_test)"
   ]
  },
  {
   "cell_type": "code",
   "execution_count": 16,
   "id": "347bb91f",
   "metadata": {},
   "outputs": [
    {
     "data": {
      "image/png": "[encoded data removed]",
      "text/plain": [
       "<Figure size 640x480 with 2 Axes>"
      ]
     },
     "metadata": {},
     "output_type": "display_data"
    }
   ],
   "source": [
    "matrix=confusion_matrix(y_true=y_test,y_pred=predict)\n",
    "sns.heatmap(matrix,annot=True,cmap='Blues')\n",
    "plt.xlabel(\"Predicted\")\n",
    "plt.ylabel(\"Actual\")\n",
    "plt.title(\"Confusion Matrix\")\n",
    "plt.show()"
   ]
  },
  {
   "cell_type": "code",
   "execution_count": 17,
   "id": "1f3559aa",
   "metadata": {},
   "outputs": [
    {
     "name": "stdout",
     "output_type": "stream",
     "text": [
      "               precision    recall  f1-score   support\n",
      "\n",
      "     business       0.97      0.97      0.97       102\n",
      "entertainment       1.00      0.88      0.93        72\n",
      "     politics       0.91      0.96      0.93        72\n",
      "        sport       1.00      0.99      1.00       110\n",
      "         tech       0.93      0.99      0.96        89\n",
      "\n",
      "     accuracy                           0.96       445\n",
      "    macro avg       0.96      0.96      0.96       445\n",
      " weighted avg       0.96      0.96      0.96       445\n",
      "\n"
     ]
    }
   ],
   "source": [
    "print(classification_report(y_pred=predict,y_true=y_test))"
   ]
  },
  {
   "cell_type": "markdown",
   "id": "85d7c2ba",
   "metadata": {},
   "source": [
    "Accuracy is a misleading metric in unbalanced data. The previous confusion matrix shows that not only is the accuracy high, but also the majority of predictions are of the majority class."
   ]
  },
  {
   "cell_type": "markdown",
   "id": "debfe2ac",
   "metadata": {},
   "source": [
    "Recall:Out of all the actual positive cases, what percentage did we correctly predict? (positive is the true class)           \n",
    "precision:Out of everything I predicted as positive, how many were actually correct?     \n",
    "f1:is a harmonic mean of the both.                                  \n",
    "The high values of the three metrics indicate that the model is good."
   ]
  },
  {
   "cell_type": "code",
   "execution_count": null,
   "id": "fd302844",
   "metadata": {},
   "outputs": [],
   "source": [
    "label_encoder = LabelEncoder()\n",
    "df['label_encoded'] = label_encoder.fit_transform(df['label'])"
   ]
  },
  {
   "cell_type": "code",
   "execution_count": 18,
   "id": "b0a906ad",
   "metadata": {},
   "outputs": [],
   "source": [
    "X_texts = df['clean_text']\n",
    "y_labels = df['label_encoded']\n",
    "\n",
    "X_train_texts, X_test_texts, y_train_labels, y_test_labels = train_test_split(\n",
    "    X_texts, y_labels, test_size=0.2, random_state=42, shuffle=True\n",
    ")\n",
    "\n",
    "tokenizer = DistilBertTokenizerFast.from_pretrained('distilbert-base-uncased')\n",
    "train_encodings = tokenizer(list(X_train_texts), truncation=True, padding='max_length', max_length=512, return_tensors='pt')\n",
    "test_encodings = tokenizer(list(X_test_texts), truncation=True, padding='max_length', max_length=512, return_tensors='pt')\n",
    "\n",
    "train_labels = torch.tensor(list(y_train_labels))\n",
    "test_labels = torch.tensor(list(y_test_labels))\n"
   ]
  },
  {
   "cell_type": "code",
   "execution_count": 19,
   "id": "0cfc628a",
   "metadata": {},
   "outputs": [],
   "source": [
    "train_dataset = TensorDataset(train_encodings['input_ids'], train_encodings['attention_mask'], train_labels)\n",
    "test_dataset = TensorDataset(test_encodings['input_ids'], test_encodings['attention_mask'], test_labels)\n",
    "\n",
    "train_loader = DataLoader(train_dataset, batch_size=8, shuffle=True)\n",
    "test_loader = DataLoader(test_dataset, batch_size=8, shuffle=False)"
   ]
  },
  {
   "cell_type": "code",
   "execution_count": 21,
   "id": "8a896e23",
   "metadata": {},
   "outputs": [
    {
     "name": "stderr",
     "output_type": "stream",
     "text": [
      "Some weights of DistilBertForSequenceClassification were not initialized from the model checkpoint at distilbert-base-uncased and are newly initialized: ['classifier.bias', 'classifier.weight', 'pre_classifier.bias', 'pre_classifier.weight']\n",
      "You should probably TRAIN this model on a down-stream task to be able to use it for predictions and inference.\n"
     ]
    }
   ],
   "source": [
    "model = DistilBertForSequenceClassification.from_pretrained('distilbert-base-uncased', num_labels=5)\n",
    "optimizer = AdamW(model.parameters(), lr=5e-5)\n",
    "loss_fn = CrossEntropyLoss()\n",
    "\n",
    "tokenizer = DistilBertTokenizerFast.from_pretrained('distilbert-base-uncased')\n",
    "train_encodings = tokenizer(list(X_train_texts), truncation=True, padding='max_length', max_length=512, return_tensors='pt')\n",
    "test_encodings = tokenizer(list(X_test_texts), truncation=True, padding='max_length', max_length=512, return_tensors='pt')\n"
   ]
  },
  {
   "cell_type": "code",
   "execution_count": 22,
   "id": "9331994f",
   "metadata": {},
   "outputs": [
    {
     "data": {
      "text/plain": [
       "DistilBertForSequenceClassification(\n",
       "  (distilbert): DistilBertModel(\n",
       "    (embeddings): Embeddings(\n",
       "      (word_embeddings): Embedding(30522, 768, padding_idx=0)\n",
       "      (position_embeddings): Embedding(512, 768)\n",
       "      (LayerNorm): LayerNorm((768,), eps=1e-12, elementwise_affine=True)\n",
       "      (dropout): Dropout(p=0.1, inplace=False)\n",
       "    )\n",
       "    (transformer): Transformer(\n",
       "      (layer): ModuleList(\n",
       "        (0-5): 6 x TransformerBlock(\n",
       "          (attention): DistilBertSdpaAttention(\n",
       "            (dropout): Dropout(p=0.1, inplace=False)\n",
       "            (q_lin): Linear(in_features=768, out_features=768, bias=True)\n",
       "            (k_lin): Linear(in_features=768, out_features=768, bias=True)\n",
       "            (v_lin): Linear(in_features=768, out_features=768, bias=True)\n",
       "            (out_lin): Linear(in_features=768, out_features=768, bias=True)\n",
       "          )\n",
       "          (sa_layer_norm): LayerNorm((768,), eps=1e-12, elementwise_affine=True)\n",
       "          (ffn): FFN(\n",
       "            (dropout): Dropout(p=0.1, inplace=False)\n",
       "            (lin1): Linear(in_features=768, out_features=3072, bias=True)\n",
       "            (lin2): Linear(in_features=3072, out_features=768, bias=True)\n",
       "            (activation): GELUActivation()\n",
       "          )\n",
       "          (output_layer_norm): LayerNorm((768,), eps=1e-12, elementwise_affine=True)\n",
       "        )\n",
       "      )\n",
       "    )\n",
       "  )\n",
       "  (pre_classifier): Linear(in_features=768, out_features=768, bias=True)\n",
       "  (classifier): Linear(in_features=768, out_features=5, bias=True)\n",
       "  (dropout): Dropout(p=0.2, inplace=False)\n",
       ")"
      ]
     },
     "execution_count": 22,
     "metadata": {},
     "output_type": "execute_result"
    }
   ],
   "source": [
    "device = torch.device('cuda') if torch.cuda.is_available() else torch.device('cpu')\n",
    "model.to(device)"
   ]
  },
  {
   "cell_type": "code",
   "execution_count": 25,
   "id": "325ab37e",
   "metadata": {},
   "outputs": [
    {
     "name": "stdout",
     "output_type": "stream",
     "text": [
      "Epoch 1 done.\n",
      "Epoch 2 done.\n",
      "Epoch 3 done.\n"
     ]
    }
   ],
   "source": [
    "for epoch in range(3):\n",
    "    model.train()\n",
    "    for batch in train_loader:\n",
    "        input_ids, attention_mask, labels = [b.to(device) for b in batch]\n",
    "        optimizer.zero_grad()\n",
    "        outputs = model(input_ids=input_ids, attention_mask=attention_mask)\n",
    "        loss = loss_fn(outputs.logits, labels)\n",
    "        loss.backward()\n",
    "        optimizer.step()\n",
    "    print(f\"Epoch {epoch+1} done.\")"
   ]
  },
  {
   "cell_type": "code",
   "execution_count": null,
   "id": "50c47add",
   "metadata": {},
   "outputs": [
    {
     "name": "stdout",
     "output_type": "stream",
     "text": [
      "Test Accuracy: 0.9708\n"
     ]
    }
   ],
   "source": [
    "model.eval()\n",
    "all_preds = []\n",
    "all_labels = []\n",
    "correct = 0\n",
    "total = 0\n",
    "with torch.no_grad():\n",
    "    for batch in test_loader:\n",
    "        input_ids, attention_mask, labels = [b.to(device) for b in batch]\n",
    "        outputs = model(input_ids=input_ids, attention_mask=attention_mask)\n",
    "        predictions = torch.argmax(outputs.logits, dim=-1)\n",
    "        correct += (predictions == labels).sum().item()\n",
    "        total += labels.size(0)\n",
    "        all_preds.extend(predictions.cpu().numpy())\n",
    "        all_labels.extend(labels.cpu().numpy())\n",
    "\n",
    "print(f\"Test Accuracy: {correct/total:.4f}\")"
   ]
  },
  {
   "cell_type": "code",
   "execution_count": null,
   "id": "8bcf5b26",
   "metadata": {},
   "outputs": [
    {
     "name": "stdout",
     "output_type": "stream",
     "text": [
      "               precision    recall  f1-score   support\n",
      "\n",
      "     business       0.96      0.96      0.96       102\n",
      "entertainment       1.00      0.97      0.99        72\n",
      "     politics       0.93      0.94      0.94        72\n",
      "        sport       0.99      0.99      0.99       110\n",
      "         tech       0.97      0.98      0.97        89\n",
      "\n",
      "     accuracy                           0.97       445\n",
      "    macro avg       0.97      0.97      0.97       445\n",
      " weighted avg       0.97      0.97      0.97       445\n",
      "\n"
     ]
    }
   ],
   "source": [
    "class_names = df['label'].unique().tolist()\n",
    "report = classification_report(all_labels, all_preds, target_names=class_names)\n",
    "print(report)\n",
    "\n"
   ]
  },
  {
   "cell_type": "markdown",
   "id": "71a4554c",
   "metadata": {},
   "source": [
    "The difference in accuracy between the Logistic Regression and Transformer models isn’t significant, but the Transformer model still performs slightly better Precision is high across all classes in both models especially in Entertainment and Sports, indicating that both models are very good at correctly identifying positive instances in these categories. Recall shows a similar pattern but the F1-score is higher for the Transformer model than for Logistic Regression at the majority of classes  which indicates that the balance between precision and recall is better in the Transformer model."
   ]
  },
  {
   "cell_type": "markdown",
   "id": "5c92d2d4",
   "metadata": {},
   "source": [
    "## Ethics Check \n"
   ]
  },
  {
   "cell_type": "markdown",
   "id": "74138487",
   "metadata": {},
   "source": [
    "Potential bias in the training data may arise from imbalanced labels, particularly for popular topics. Misclassifications could mislead users or propagate misinformation if the model is used in news aggregation.\n",
    "\n",
    "Mitigation:\n",
    "\n",
    "We could use resampling techniques to balance the data. However, this is not necessary in our case because, although the dataset is somewhat imbalanced, all classes have a large number of samples, and the differences in the number of samples between classes are not very large."
   ]
  }
 ],
 "metadata": {
  "kernelspec": {
   "display_name": "Python 3",
   "language": "python",
   "name": "python3"
  },
  "language_info": {
   "codemirror_mode": {
    "name": "ipython",
    "version": 3
   },
   "file_extension": ".py",
   "mimetype": "text/x-python",
   "name": "python",
   "nbconvert_exporter": "python",
   "pygments_lexer": "ipython3",
   "version": "3.13.3"
  }
 },
 "nbformat": 4,
 "nbformat_minor": 5
}
